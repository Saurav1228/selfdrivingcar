{
 "cells": [
  {
   "cell_type": "code",
   "execution_count": 17,
   "id": "c1872a9f",
   "metadata": {},
   "outputs": [
    {
     "name": "stdout",
     "output_type": "stream",
     "text": [
      "[0, 1, 2, 3, 4, 5, 6, 7, 8, 9]\n",
      "[0, 1, 10, 3, 4, 5, 6, 7, 8, 9]\n"
     ]
    }
   ],
   "source": [
    "numbers = list(range(0,10))\n",
    "print(numbers)\n",
    "numbers[2]=10\n",
    "print(numbers)"
   ]
  },
  {
   "cell_type": "code",
   "execution_count": 82,
   "id": "19e0c66b",
   "metadata": {},
   "outputs": [
    {
     "name": "stdout",
     "output_type": "stream",
     "text": [
      "[[ 2  3 -2]\n",
      " [ 1  2  3]\n",
      " [-2  1  3]]\n",
      "-31.0\n"
     ]
    }
   ],
   "source": [
    "import numpy as np\n",
    "a = np.array([[2,3,-2],[1,2,3],[-2,1,3]])\n",
    "print(a)\n",
    "print(np.linalg.det(a))"
   ]
  },
  {
   "cell_type": "code",
   "execution_count": 83,
   "id": "26c5be8f",
   "metadata": {},
   "outputs": [
    {
     "name": "stdout",
     "output_type": "stream",
     "text": [
      "[[ 3 -2  4]\n",
      " [ 1  2  1]\n",
      " [ 0  1 -1]]\n",
      "-7.000000000000001\n"
     ]
    }
   ],
   "source": [
    "import numpy as np\n",
    "b = np.array([[3,-2,4],[1,2,1],[0,1,-1]])\n",
    "print(b)\n",
    "print(np.linalg.det(b))"
   ]
  },
  {
   "cell_type": "code",
   "execution_count": 88,
   "id": "bd302fc8",
   "metadata": {},
   "outputs": [
    {
     "name": "stdout",
     "output_type": "stream",
     "text": [
      "[[  9   0  13]\n",
      " [  5   5   3]\n",
      " [ -5   9 -10]]\n",
      "217.00000000000003\n"
     ]
    }
   ],
   "source": [
    "c=a@b\n",
    "print(c)\n",
    "print(np.linalg.det(c))"
   ]
  },
  {
   "cell_type": "code",
   "execution_count": null,
   "id": "8566edef",
   "metadata": {},
   "outputs": [],
   "source": []
  }
 ],
 "metadata": {
  "kernelspec": {
   "display_name": "Python 3 (ipykernel)",
   "language": "python",
   "name": "python3"
  },
  "language_info": {
   "codemirror_mode": {
    "name": "ipython",
    "version": 3
   },
   "file_extension": ".py",
   "mimetype": "text/x-python",
   "name": "python",
   "nbconvert_exporter": "python",
   "pygments_lexer": "ipython3",
   "version": "3.9.7"
  }
 },
 "nbformat": 4,
 "nbformat_minor": 5
}
